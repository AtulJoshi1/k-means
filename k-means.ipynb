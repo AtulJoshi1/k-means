{
 "cells": [
  {
   "cell_type": "code",
   "execution_count": 1,
   "metadata": {},
   "outputs": [],
   "source": [
    "import pandas as pd\n",
    "import random as rn\n",
    "import numpy as np\n",
    "import matplotlib.pyplot as plt"
   ]
  },
  {
   "cell_type": "markdown",
   "metadata": {},
   "source": [
    "# Generating random 2-d data"
   ]
  },
  {
   "cell_type": "code",
   "execution_count": 2,
   "metadata": {},
   "outputs": [
    {
     "data": {
      "text/plain": [
       "[array([ 36, 255]),\n",
       " array([301, 317]),\n",
       " array([463, 112]),\n",
       " array([451, 493]),\n",
       " array([211, 517]),\n",
       " array([628, 376]),\n",
       " array([234, 345]),\n",
       " array([551, 587]),\n",
       " array([ 44, 151]),\n",
       " array([560, 266])]"
      ]
     },
     "execution_count": 2,
     "metadata": {},
     "output_type": "execute_result"
    }
   ],
   "source": [
    "x=[]\n",
    "for i in range(10):\n",
    "    x.append(np.random.randint(0,700,2)) #generates random 2 element array with values between 0 and 700\n",
    "x"
   ]
  },
  {
   "cell_type": "code",
   "execution_count": 3,
   "metadata": {},
   "outputs": [
    {
     "data": {
      "text/plain": [
       "array([[ 36, 255],\n",
       "       [301, 317],\n",
       "       [463, 112],\n",
       "       [451, 493],\n",
       "       [211, 517],\n",
       "       [628, 376],\n",
       "       [234, 345],\n",
       "       [551, 587],\n",
       "       [ 44, 151],\n",
       "       [560, 266]])"
      ]
     },
     "execution_count": 3,
     "metadata": {},
     "output_type": "execute_result"
    }
   ],
   "source": [
    "x=np.asarray(x) #converting to np array\n",
    "x"
   ]
  },
  {
   "cell_type": "code",
   "execution_count": 4,
   "metadata": {},
   "outputs": [
    {
     "data": {
      "text/plain": [
       "<matplotlib.collections.PathCollection at 0x7ff64740da20>"
      ]
     },
     "execution_count": 4,
     "metadata": {},
     "output_type": "execute_result"
    },
    {
     "data": {
      "image/png": "[encoded data removed]",
      "text/plain": [
       "<Figure size 432x288 with 1 Axes>"
      ]
     },
     "metadata": {
      "needs_background": "light"
     },
     "output_type": "display_data"
    }
   ],
   "source": [
    "plt.scatter(x[:,0],x[:,1]) #scatter plot of data"
   ]
  },
  {
   "cell_type": "markdown",
   "metadata": {},
   "source": [
    "# Algorithm"
   ]
  },
  {
   "cell_type": "code",
   "execution_count": 5,
   "metadata": {},
   "outputs": [],
   "source": [
    "def distance(x,y):\n",
    "    return(np.linalg.norm(x-y)) #calculates eucledian distance between 2 pts."
   ]
  },
  {
   "cell_type": "code",
   "execution_count": 6,
   "metadata": {},
   "outputs": [],
   "source": [
    "def kmeans(x,k,maxiter):\n",
    "    a=[] #the centroid array\n",
    "    dm=np.zeros((k,len(x)))#initialize distance matrix\n",
    "    for i in range(k):\n",
    "        a.append(rn.choice(x)) #to select k random data points as initial seeds\n",
    "    for itervar in range(maxiter):\n",
    "        cls=[] #cluster array\n",
    "        for i in range(k):\n",
    "            cls.append([]) #initialize cluster array of k arrays\n",
    "        for i in range(len(a)):\n",
    "            for j in range(len(x)):\n",
    "                    dm[i][j]=distance(a[i],x[j]) #distance matrix generation\n",
    "        for i in range(len(dm)):\n",
    "            for j in range(len(x)):\n",
    "                if((min(dm[:,j:j+1])==dm[i][j])):\n",
    "                   cls[i].append(x[j]) #appending minimum distance data point to corresponding cluster  \n",
    "        for i in range(k):\n",
    "            a[i]=np.array(cls[i]).mean(axis=0) #assign corresponding meanpoint as the new centroid\n",
    "    return(cls)"
   ]
  },
  {
   "cell_type": "markdown",
   "metadata": {},
   "source": [
    "# Applying k-means on data"
   ]
  },
  {
   "cell_type": "code",
   "execution_count": 7,
   "metadata": {
    "scrolled": false
   },
   "outputs": [],
   "source": [
    "cls=kmeans(x,3,10) #for k = 3 and maximum iterations =10"
   ]
  },
  {
   "cell_type": "code",
   "execution_count": 8,
   "metadata": {
    "scrolled": true
   },
   "outputs": [
    {
     "data": {
      "text/plain": [
       "[[array([451, 493]), array([628, 376]), array([551, 587]), array([560, 266])],\n",
       " [array([301, 317]), array([211, 517]), array([234, 345])],\n",
       " [array([ 36, 255]), array([463, 112]), array([ 44, 151])]]"
      ]
     },
     "execution_count": 8,
     "metadata": {},
     "output_type": "execute_result"
    }
   ],
   "source": [
    "cls #Cluster"
   ]
  }
 ],
 "metadata": {
  "kernelspec": {
   "display_name": "Python 3",
   "language": "python",
   "name": "python3"
  },
  "language_info": {
   "codemirror_mode": {
    "name": "ipython",
    "version": 3
   },
   "file_extension": ".py",
   "mimetype": "text/x-python",
   "name": "python",
   "nbconvert_exporter": "python",
   "pygments_lexer": "ipython3",
   "version": "3.7.1"
  }
 },
 "nbformat": 4,
 "nbformat_minor": 2
}
